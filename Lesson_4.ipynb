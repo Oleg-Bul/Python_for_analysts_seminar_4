{
 "cells": [
  {
   "cell_type": "code",
   "execution_count": 1,
   "id": "35c26e2b",
   "metadata": {},
   "outputs": [],
   "source": [
    "import numpy as np\n",
    "import pandas as pd"
   ]
  },
  {
   "cell_type": "code",
   "execution_count": 2,
   "id": "5a88db24",
   "metadata": {},
   "outputs": [],
   "source": [
    "import matplotlib.pyplot as plt\n",
    "import seaborn as sns"
   ]
  },
  {
   "cell_type": "code",
   "execution_count": 5,
   "id": "fdbee9b0",
   "metadata": {},
   "outputs": [
    {
     "data": {
      "text/html": [
       "<div>\n",
       "<style scoped>\n",
       "    .dataframe tbody tr th:only-of-type {\n",
       "        vertical-align: middle;\n",
       "    }\n",
       "\n",
       "    .dataframe tbody tr th {\n",
       "        vertical-align: top;\n",
       "    }\n",
       "\n",
       "    .dataframe thead th {\n",
       "        text-align: right;\n",
       "    }\n",
       "</style>\n",
       "<table border=\"1\" class=\"dataframe\">\n",
       "  <thead>\n",
       "    <tr style=\"text-align: right;\">\n",
       "      <th></th>\n",
       "      <th>RowNumber</th>\n",
       "      <th>CustomerId</th>\n",
       "      <th>Surname</th>\n",
       "      <th>CreditScore</th>\n",
       "      <th>Geography</th>\n",
       "      <th>Gender</th>\n",
       "      <th>Age</th>\n",
       "      <th>Tenure</th>\n",
       "      <th>Balance</th>\n",
       "      <th>NumOfProducts</th>\n",
       "      <th>HasCrCard</th>\n",
       "      <th>IsActiveMember</th>\n",
       "      <th>EstimatedSalary</th>\n",
       "      <th>Exited</th>\n",
       "    </tr>\n",
       "  </thead>\n",
       "  <tbody>\n",
       "    <tr>\n",
       "      <th>8758</th>\n",
       "      <td>8759</td>\n",
       "      <td>15732621</td>\n",
       "      <td>Martin</td>\n",
       "      <td>663</td>\n",
       "      <td>France</td>\n",
       "      <td>Male</td>\n",
       "      <td>34</td>\n",
       "      <td>10</td>\n",
       "      <td>0.00</td>\n",
       "      <td>1</td>\n",
       "      <td>1</td>\n",
       "      <td>1</td>\n",
       "      <td>114083.73</td>\n",
       "      <td>0</td>\n",
       "    </tr>\n",
       "    <tr>\n",
       "      <th>4409</th>\n",
       "      <td>4410</td>\n",
       "      <td>15781598</td>\n",
       "      <td>Middleton</td>\n",
       "      <td>756</td>\n",
       "      <td>Germany</td>\n",
       "      <td>Male</td>\n",
       "      <td>41</td>\n",
       "      <td>6</td>\n",
       "      <td>149049.92</td>\n",
       "      <td>1</td>\n",
       "      <td>0</td>\n",
       "      <td>1</td>\n",
       "      <td>50422.36</td>\n",
       "      <td>1</td>\n",
       "    </tr>\n",
       "    <tr>\n",
       "      <th>2695</th>\n",
       "      <td>2696</td>\n",
       "      <td>15639946</td>\n",
       "      <td>Sazonova</td>\n",
       "      <td>597</td>\n",
       "      <td>Germany</td>\n",
       "      <td>Female</td>\n",
       "      <td>39</td>\n",
       "      <td>8</td>\n",
       "      <td>162532.14</td>\n",
       "      <td>3</td>\n",
       "      <td>1</td>\n",
       "      <td>0</td>\n",
       "      <td>36051.46</td>\n",
       "      <td>1</td>\n",
       "    </tr>\n",
       "    <tr>\n",
       "      <th>8595</th>\n",
       "      <td>8596</td>\n",
       "      <td>15668774</td>\n",
       "      <td>Chiemenam</td>\n",
       "      <td>758</td>\n",
       "      <td>Germany</td>\n",
       "      <td>Female</td>\n",
       "      <td>23</td>\n",
       "      <td>5</td>\n",
       "      <td>122739.10</td>\n",
       "      <td>1</td>\n",
       "      <td>1</td>\n",
       "      <td>0</td>\n",
       "      <td>102460.84</td>\n",
       "      <td>1</td>\n",
       "    </tr>\n",
       "    <tr>\n",
       "      <th>2252</th>\n",
       "      <td>2253</td>\n",
       "      <td>15604782</td>\n",
       "      <td>Tan</td>\n",
       "      <td>733</td>\n",
       "      <td>Germany</td>\n",
       "      <td>Female</td>\n",
       "      <td>33</td>\n",
       "      <td>7</td>\n",
       "      <td>187257.94</td>\n",
       "      <td>1</td>\n",
       "      <td>0</td>\n",
       "      <td>1</td>\n",
       "      <td>190430.81</td>\n",
       "      <td>0</td>\n",
       "    </tr>\n",
       "    <tr>\n",
       "      <th>3512</th>\n",
       "      <td>3513</td>\n",
       "      <td>15657779</td>\n",
       "      <td>Boylan</td>\n",
       "      <td>806</td>\n",
       "      <td>Spain</td>\n",
       "      <td>Male</td>\n",
       "      <td>18</td>\n",
       "      <td>3</td>\n",
       "      <td>0.00</td>\n",
       "      <td>2</td>\n",
       "      <td>1</td>\n",
       "      <td>1</td>\n",
       "      <td>86994.54</td>\n",
       "      <td>0</td>\n",
       "    </tr>\n",
       "    <tr>\n",
       "      <th>6439</th>\n",
       "      <td>6440</td>\n",
       "      <td>15583371</td>\n",
       "      <td>Artemiev</td>\n",
       "      <td>632</td>\n",
       "      <td>Spain</td>\n",
       "      <td>Male</td>\n",
       "      <td>37</td>\n",
       "      <td>1</td>\n",
       "      <td>138207.08</td>\n",
       "      <td>1</td>\n",
       "      <td>1</td>\n",
       "      <td>0</td>\n",
       "      <td>60778.11</td>\n",
       "      <td>1</td>\n",
       "    </tr>\n",
       "    <tr>\n",
       "      <th>3168</th>\n",
       "      <td>3169</td>\n",
       "      <td>15680752</td>\n",
       "      <td>Horrocks</td>\n",
       "      <td>675</td>\n",
       "      <td>France</td>\n",
       "      <td>Female</td>\n",
       "      <td>49</td>\n",
       "      <td>0</td>\n",
       "      <td>0.00</td>\n",
       "      <td>1</td>\n",
       "      <td>1</td>\n",
       "      <td>1</td>\n",
       "      <td>80496.71</td>\n",
       "      <td>1</td>\n",
       "    </tr>\n",
       "    <tr>\n",
       "      <th>6664</th>\n",
       "      <td>6665</td>\n",
       "      <td>15667632</td>\n",
       "      <td>Birdseye</td>\n",
       "      <td>703</td>\n",
       "      <td>France</td>\n",
       "      <td>Female</td>\n",
       "      <td>42</td>\n",
       "      <td>7</td>\n",
       "      <td>0.00</td>\n",
       "      <td>2</td>\n",
       "      <td>0</td>\n",
       "      <td>1</td>\n",
       "      <td>72500.68</td>\n",
       "      <td>0</td>\n",
       "    </tr>\n",
       "    <tr>\n",
       "      <th>8144</th>\n",
       "      <td>8145</td>\n",
       "      <td>15775108</td>\n",
       "      <td>Lo Duca</td>\n",
       "      <td>571</td>\n",
       "      <td>France</td>\n",
       "      <td>Male</td>\n",
       "      <td>34</td>\n",
       "      <td>1</td>\n",
       "      <td>99325.04</td>\n",
       "      <td>2</td>\n",
       "      <td>0</td>\n",
       "      <td>1</td>\n",
       "      <td>186052.15</td>\n",
       "      <td>0</td>\n",
       "    </tr>\n",
       "  </tbody>\n",
       "</table>\n",
       "</div>"
      ],
      "text/plain": [
       "      RowNumber  CustomerId    Surname  CreditScore Geography  Gender  Age  \\\n",
       "8758       8759    15732621     Martin          663    France    Male   34   \n",
       "4409       4410    15781598  Middleton          756   Germany    Male   41   \n",
       "2695       2696    15639946   Sazonova          597   Germany  Female   39   \n",
       "8595       8596    15668774  Chiemenam          758   Germany  Female   23   \n",
       "2252       2253    15604782        Tan          733   Germany  Female   33   \n",
       "3512       3513    15657779     Boylan          806     Spain    Male   18   \n",
       "6439       6440    15583371   Artemiev          632     Spain    Male   37   \n",
       "3168       3169    15680752   Horrocks          675    France  Female   49   \n",
       "6664       6665    15667632   Birdseye          703    France  Female   42   \n",
       "8144       8145    15775108    Lo Duca          571    France    Male   34   \n",
       "\n",
       "      Tenure    Balance  NumOfProducts  HasCrCard  IsActiveMember  \\\n",
       "8758      10       0.00              1          1               1   \n",
       "4409       6  149049.92              1          0               1   \n",
       "2695       8  162532.14              3          1               0   \n",
       "8595       5  122739.10              1          1               0   \n",
       "2252       7  187257.94              1          0               1   \n",
       "3512       3       0.00              2          1               1   \n",
       "6439       1  138207.08              1          1               0   \n",
       "3168       0       0.00              1          1               1   \n",
       "6664       7       0.00              2          0               1   \n",
       "8144       1   99325.04              2          0               1   \n",
       "\n",
       "      EstimatedSalary  Exited  \n",
       "8758        114083.73       0  \n",
       "4409         50422.36       1  \n",
       "2695         36051.46       1  \n",
       "8595        102460.84       1  \n",
       "2252        190430.81       0  \n",
       "3512         86994.54       0  \n",
       "6439         60778.11       1  \n",
       "3168         80496.71       1  \n",
       "6664         72500.68       0  \n",
       "8144        186052.15       0  "
      ]
     },
     "execution_count": 5,
     "metadata": {},
     "output_type": "execute_result"
    }
   ],
   "source": [
    "# Считываем датасет\n",
    "df = pd.read_csv('bank.csv', sep=',')\n",
    "df.sample(n=10)"
   ]
  },
  {
   "cell_type": "code",
   "execution_count": 6,
   "id": "f1d03d45",
   "metadata": {},
   "outputs": [
    {
     "data": {
      "image/png": "[encoded data removed]",
      "text/plain": [
       "<Figure size 800x600 with 1 Axes>"
      ]
     },
     "metadata": {},
     "output_type": "display_data"
    }
   ],
   "source": [
    "plt.figure(figsize=(8, 6))\n",
    "plt.plot([0, 1, 2, 3], [10, 9, 6, 1])\n",
    "plt.xlabel('x')\n",
    "plt.ylabel('y')\n",
    "plt.title('Example')\n",
    "plt.grid();"
   ]
  },
  {
   "cell_type": "markdown",
   "id": "bf2e2eae",
   "metadata": {},
   "source": [
    "### Виды графиков\n",
    "#### Линейный график"
   ]
  },
  {
   "cell_type": "code",
   "execution_count": 8,
   "id": "7d441f4c",
   "metadata": {},
   "outputs": [
    {
     "ename": "KeyError",
     "evalue": "'month'",
     "output_type": "error",
     "traceback": [
      "\u001b[1;31m---------------------------------------------------------------------------\u001b[0m",
      "\u001b[1;31mKeyError\u001b[0m                                  Traceback (most recent call last)",
      "\u001b[1;32m~\\AppData\\Local\\Temp\\ipykernel_7728\\590678646.py\u001b[0m in \u001b[0;36m<module>\u001b[1;34m\u001b[0m\n\u001b[0;32m      1\u001b[0m \u001b[1;31m# Готовим данные для графика в виде сводной таблицы\u001b[0m\u001b[1;33m\u001b[0m\u001b[1;33m\u001b[0m\u001b[0m\n\u001b[0;32m      2\u001b[0m \u001b[1;33m\u001b[0m\u001b[0m\n\u001b[1;32m----> 3\u001b[1;33m \u001b[0mdata\u001b[0m \u001b[1;33m=\u001b[0m \u001b[0mdf\u001b[0m\u001b[1;33m.\u001b[0m\u001b[0mgroupby\u001b[0m\u001b[1;33m(\u001b[0m\u001b[1;34m'month'\u001b[0m\u001b[1;33m)\u001b[0m\u001b[1;33m[\u001b[0m\u001b[1;34m'job'\u001b[0m\u001b[1;33m]\u001b[0m\u001b[1;33m.\u001b[0m\u001b[0magg\u001b[0m\u001b[1;33m(\u001b[0m\u001b[0mcount\u001b[0m\u001b[1;33m=\u001b[0m\u001b[1;34m'count'\u001b[0m\u001b[1;33m)\u001b[0m\u001b[1;33m.\u001b[0m\u001b[0mreset_index\u001b[0m\u001b[1;33m(\u001b[0m\u001b[1;33m)\u001b[0m\u001b[1;33m.\u001b[0m\u001b[0msort_values\u001b[0m\u001b[1;33m(\u001b[0m\u001b[0mby\u001b[0m\u001b[1;33m=\u001b[0m\u001b[1;34m'month'\u001b[0m\u001b[1;33m)\u001b[0m\u001b[1;33m\u001b[0m\u001b[1;33m\u001b[0m\u001b[0m\n\u001b[0m\u001b[0;32m      4\u001b[0m \u001b[0mdata\u001b[0m\u001b[1;33m.\u001b[0m\u001b[0mhead\u001b[0m\u001b[1;33m(\u001b[0m\u001b[1;33m)\u001b[0m\u001b[1;33m\u001b[0m\u001b[1;33m\u001b[0m\u001b[0m\n",
      "\u001b[1;32m~\\anaconda3\\lib\\site-packages\\pandas\\core\\frame.py\u001b[0m in \u001b[0;36mgroupby\u001b[1;34m(self, by, axis, level, as_index, sort, group_keys, squeeze, observed, dropna)\u001b[0m\n\u001b[0;32m   7719\u001b[0m         \u001b[1;31m# error: Argument \"squeeze\" to \"DataFrameGroupBy\" has incompatible type\u001b[0m\u001b[1;33m\u001b[0m\u001b[1;33m\u001b[0m\u001b[0m\n\u001b[0;32m   7720\u001b[0m         \u001b[1;31m# \"Union[bool, NoDefault]\"; expected \"bool\"\u001b[0m\u001b[1;33m\u001b[0m\u001b[1;33m\u001b[0m\u001b[0m\n\u001b[1;32m-> 7721\u001b[1;33m         return DataFrameGroupBy(\n\u001b[0m\u001b[0;32m   7722\u001b[0m             \u001b[0mobj\u001b[0m\u001b[1;33m=\u001b[0m\u001b[0mself\u001b[0m\u001b[1;33m,\u001b[0m\u001b[1;33m\u001b[0m\u001b[1;33m\u001b[0m\u001b[0m\n\u001b[0;32m   7723\u001b[0m             \u001b[0mkeys\u001b[0m\u001b[1;33m=\u001b[0m\u001b[0mby\u001b[0m\u001b[1;33m,\u001b[0m\u001b[1;33m\u001b[0m\u001b[1;33m\u001b[0m\u001b[0m\n",
      "\u001b[1;32m~\\anaconda3\\lib\\site-packages\\pandas\\core\\groupby\\groupby.py\u001b[0m in \u001b[0;36m__init__\u001b[1;34m(self, obj, keys, axis, level, grouper, exclusions, selection, as_index, sort, group_keys, squeeze, observed, mutated, dropna)\u001b[0m\n\u001b[0;32m    880\u001b[0m             \u001b[1;32mfrom\u001b[0m \u001b[0mpandas\u001b[0m\u001b[1;33m.\u001b[0m\u001b[0mcore\u001b[0m\u001b[1;33m.\u001b[0m\u001b[0mgroupby\u001b[0m\u001b[1;33m.\u001b[0m\u001b[0mgrouper\u001b[0m \u001b[1;32mimport\u001b[0m \u001b[0mget_grouper\u001b[0m\u001b[1;33m\u001b[0m\u001b[1;33m\u001b[0m\u001b[0m\n\u001b[0;32m    881\u001b[0m \u001b[1;33m\u001b[0m\u001b[0m\n\u001b[1;32m--> 882\u001b[1;33m             grouper, exclusions, obj = get_grouper(\n\u001b[0m\u001b[0;32m    883\u001b[0m                 \u001b[0mobj\u001b[0m\u001b[1;33m,\u001b[0m\u001b[1;33m\u001b[0m\u001b[1;33m\u001b[0m\u001b[0m\n\u001b[0;32m    884\u001b[0m                 \u001b[0mkeys\u001b[0m\u001b[1;33m,\u001b[0m\u001b[1;33m\u001b[0m\u001b[1;33m\u001b[0m\u001b[0m\n",
      "\u001b[1;32m~\\anaconda3\\lib\\site-packages\\pandas\\core\\groupby\\grouper.py\u001b[0m in \u001b[0;36mget_grouper\u001b[1;34m(obj, key, axis, level, sort, observed, mutated, validate, dropna)\u001b[0m\n\u001b[0;32m    880\u001b[0m                 \u001b[0min_axis\u001b[0m\u001b[1;33m,\u001b[0m \u001b[0mlevel\u001b[0m\u001b[1;33m,\u001b[0m \u001b[0mgpr\u001b[0m \u001b[1;33m=\u001b[0m \u001b[1;32mFalse\u001b[0m\u001b[1;33m,\u001b[0m \u001b[0mgpr\u001b[0m\u001b[1;33m,\u001b[0m \u001b[1;32mNone\u001b[0m\u001b[1;33m\u001b[0m\u001b[1;33m\u001b[0m\u001b[0m\n\u001b[0;32m    881\u001b[0m             \u001b[1;32melse\u001b[0m\u001b[1;33m:\u001b[0m\u001b[1;33m\u001b[0m\u001b[1;33m\u001b[0m\u001b[0m\n\u001b[1;32m--> 882\u001b[1;33m                 \u001b[1;32mraise\u001b[0m \u001b[0mKeyError\u001b[0m\u001b[1;33m(\u001b[0m\u001b[0mgpr\u001b[0m\u001b[1;33m)\u001b[0m\u001b[1;33m\u001b[0m\u001b[1;33m\u001b[0m\u001b[0m\n\u001b[0m\u001b[0;32m    883\u001b[0m         \u001b[1;32melif\u001b[0m \u001b[0misinstance\u001b[0m\u001b[1;33m(\u001b[0m\u001b[0mgpr\u001b[0m\u001b[1;33m,\u001b[0m \u001b[0mGrouper\u001b[0m\u001b[1;33m)\u001b[0m \u001b[1;32mand\u001b[0m \u001b[0mgpr\u001b[0m\u001b[1;33m.\u001b[0m\u001b[0mkey\u001b[0m \u001b[1;32mis\u001b[0m \u001b[1;32mnot\u001b[0m \u001b[1;32mNone\u001b[0m\u001b[1;33m:\u001b[0m\u001b[1;33m\u001b[0m\u001b[1;33m\u001b[0m\u001b[0m\n\u001b[0;32m    884\u001b[0m             \u001b[1;31m# Add key to exclusions\u001b[0m\u001b[1;33m\u001b[0m\u001b[1;33m\u001b[0m\u001b[0m\n",
      "\u001b[1;31mKeyError\u001b[0m: 'month'"
     ]
    }
   ],
   "source": [
    "# Готовим данные для графика в виде сводной таблицы\n",
    "\n",
    "data = df.groupby('month')['job'].agg(count='count').reset_index().sort_values(by='month')\n",
    "data.head()"
   ]
  },
  {
   "cell_type": "code",
   "execution_count": null,
   "id": "787c0efa",
   "metadata": {},
   "outputs": [],
   "source": [
    "plt.figure(figsize=(6, 4))\n",
    "\n",
    "plt.plot(data['month'], data['count'])\n",
    "\n",
    "plt.title('Динамика охвата рекламных кампаний')\n",
    "plt.xlabel('Месяц')\n",
    "plt.ylabel('Кол-во клиентов');"
   ]
  },
  {
   "cell_type": "code",
   "execution_count": null,
   "id": "1ead56ee",
   "metadata": {},
   "outputs": [],
   "source": [
    "plt.figure(figsize=(6, 4))\n",
    "\n",
    "sns.lineplot(x=data['month'], y=data['count'])\n",
    "\n",
    "plt.title('Динамика охвата рекламных кампаний')\n",
    "plt.xlabel('Месяц')\n",
    "plt.ylabel('Кол-во клиентов');"
   ]
  },
  {
   "cell_type": "markdown",
   "id": "3582a3ff",
   "metadata": {},
   "source": [
    "#### Гистограмма\n",
    "##### Matplotlib"
   ]
  },
  {
   "cell_type": "code",
   "execution_count": null,
   "id": "e16c58e4",
   "metadata": {},
   "outputs": [],
   "source": [
    "plt.figure(figsize=(6, 4))\n",
    "\n",
    "plt.hist(df['age'], bins=15)\n",
    "\n",
    "plt.title('Возраст клиентов банка')\n",
    "plt.xlabel('Интервал, лет')\n",
    "plt.ylabel('Кол-во клиентов')"
   ]
  },
  {
   "cell_type": "markdown",
   "id": "f5e96854",
   "metadata": {},
   "source": [
    "##### Seaborn"
   ]
  },
  {
   "cell_type": "code",
   "execution_count": null,
   "id": "5aa77155",
   "metadata": {},
   "outputs": [],
   "source": [
    "plt.figure(figsize=(6, 4))\n",
    "\n",
    "sns.histplot(df['age'], bins=15)\n",
    "\n",
    "plt.title('Возраст клиентов банка')\n",
    "plt.xlabel('Интервал, лет')\n",
    "plt.ylabel('Кол-во клиентов');"
   ]
  },
  {
   "cell_type": "markdown",
   "id": "79375963",
   "metadata": {},
   "source": [
    "##### Диаграмма рассеяния"
   ]
  },
  {
   "cell_type": "code",
   "execution_count": null,
   "id": "73e1f262",
   "metadata": {},
   "outputs": [],
   "source": [
    "# Готовим данные для графика в виде сводной таблицы\n",
    "data = df.groupby('age')['convert'].sum().reset_index()\n",
    "data.head()"
   ]
  },
  {
   "cell_type": "markdown",
   "id": "37962de4",
   "metadata": {},
   "source": [
    "##### Matplotlib"
   ]
  },
  {
   "cell_type": "code",
   "execution_count": null,
   "id": "26d4ac61",
   "metadata": {},
   "outputs": [],
   "source": [
    "plt.figure(figsize=(6, 4))\n",
    "\n",
    "plt.scatter(data['age'], data['convert'])\n",
    "\n",
    "plt.title('График разброса значений')\n",
    "plt.xlabel('Возраст')\n",
    "plt.ylabel('Покупки');"
   ]
  },
  {
   "cell_type": "markdown",
   "id": "d674029b",
   "metadata": {},
   "source": [
    "##### Seaborn"
   ]
  },
  {
   "cell_type": "code",
   "execution_count": null,
   "id": "c82ba1b0",
   "metadata": {},
   "outputs": [],
   "source": [
    "plt.figure(figsize=(6, 4))\n",
    "\n",
    "sns.scatterplot(x=data['age'], y=data['convert'])\n",
    "\n",
    "plt.title('График разброса значений')\n",
    "plt.xlabel('Возраст')\n",
    "plt.ylabel('Покупки');"
   ]
  },
  {
   "cell_type": "markdown",
   "id": "f2897ab5",
   "metadata": {},
   "source": [
    "##### Столбчатые диаграммы"
   ]
  },
  {
   "cell_type": "code",
   "execution_count": null,
   "id": "18ca7946",
   "metadata": {},
   "outputs": [],
   "source": [
    "# Готовим данные для графика\n",
    "data = df['job'].value_counts().reset_index()\n",
    "data.head()"
   ]
  },
  {
   "cell_type": "markdown",
   "id": "7b15b75c",
   "metadata": {},
   "source": [
    "##### Matplotlib"
   ]
  },
  {
   "cell_type": "code",
   "execution_count": null,
   "id": "1c968944",
   "metadata": {},
   "outputs": [],
   "source": [
    "plt.figure(figsize=(6, 4))\n",
    "\n",
    "plt.bar(data['index'], data['job'])\n",
    "\n",
    "plt.title('Род занятий клиентов банка')\n",
    "plt.xlabel('Род занятий')\n",
    "plt.ylabel('Кол-во')\n",
    "plt.xticks(rotation=30);"
   ]
  },
  {
   "cell_type": "markdown",
   "id": "613f8ac5",
   "metadata": {},
   "source": [
    "##### Seaborn"
   ]
  },
  {
   "cell_type": "code",
   "execution_count": null,
   "id": "4fa22311",
   "metadata": {},
   "outputs": [],
   "source": [
    "plt.figure(figsize=(6, 4))\n",
    "\n",
    "sns.barplot(x=data['index'], y=data['job'])\n",
    "\n",
    "plt.title('Род занятий клиентов банка')\n",
    "plt.xlabel('Род занятий')\n",
    "plt.ylabel('Кол-во')\n",
    "plt.xticks(rotation=30);"
   ]
  },
  {
   "cell_type": "markdown",
   "id": "5f64513c",
   "metadata": {},
   "source": [
    "##### Многорядовые столбчатые диаграммы"
   ]
  },
  {
   "cell_type": "code",
   "execution_count": null,
   "id": "4684837e",
   "metadata": {},
   "outputs": [],
   "source": [
    "# Готовим данные для графика\n",
    "data = pd.crosstab(df['job'], df['convert']).reset_index().sort_values(by=0, ascending=False)\n",
    "data.rename(columns={0: 'no', 1: 'yes'}, inplace=True)\n",
    "data.head()"
   ]
  },
  {
   "cell_type": "code",
   "execution_count": null,
   "id": "007ce104",
   "metadata": {},
   "outputs": [],
   "source": [
    "# Строим столбчатую многорядную диаграмму\n",
    "\n",
    "plt.figure(figsize=(8, 6))\n",
    "\n",
    "# определяем кол-во делений\n",
    "n_ticks = np.arange(len(data['no']))\n",
    "\n",
    "# определяем сдвиг\n",
    "offset = 0.2\n",
    "\n",
    "# определяем ширину столбцов\n",
    "w = 0.4\n",
    "\n",
    "# добавляем сдвиг к кол-ву делений\n",
    "plt.bar(n_ticks - offset, data['no'], width=w)\n",
    "plt.bar(n_ticks + offset, data['yes'], width=w)\n",
    "\n",
    "plt.title('Род занятий клиентов банка, открывших депозит')\n",
    "plt.xlabel('Род занятий')\n",
    "plt.ylabel('Кол-во')\n",
    "plt.legend(['no', 'yes'])\n",
    "plt.xticks(n_ticks, data['job'], rotation = 30);  # добавляем метки делений"
   ]
  },
  {
   "cell_type": "markdown",
   "id": "ca5003cc",
   "metadata": {},
   "source": [
    "##### Сложенная столбчатая диаграмма"
   ]
  },
  {
   "cell_type": "code",
   "execution_count": null,
   "id": "0c8e5159",
   "metadata": {},
   "outputs": [],
   "source": [
    "# Готовим данные для графика\n",
    "data = pd.crosstab(df['job'], df['convert'], normalize='index').reset_index().sort_values(by=0, ascending=False)\n",
    "data.rename(columns={0: 'no', 1: 'yes'}, inplace=True)\n",
    "data.head()"
   ]
  },
  {
   "cell_type": "code",
   "execution_count": null,
   "id": "d67903b9",
   "metadata": {},
   "outputs": [],
   "source": [
    "# Строим столбчатую многорядную сложенную диаграмму\n",
    "\n",
    "plt.figure(figsize=(8, 6))\n",
    "\n",
    "plt.bar(data['job'], data['no'])\n",
    "plt.bar(data['job'], data['yes'], bottom=data['no'])\n",
    "\n",
    "plt.title('Род занятий клиентов банка, открывших депозит')\n",
    "plt.xlabel('Род занятий')\n",
    "plt.ylabel('Доля клиентов')\n",
    "plt.legend(['no', 'yes'])\n",
    "plt.xticks(rotation = 30);"
   ]
  },
  {
   "cell_type": "markdown",
   "id": "6110e790",
   "metadata": {},
   "source": [
    "##### Ящики с усами"
   ]
  },
  {
   "cell_type": "code",
   "execution_count": null,
   "id": "97e60352",
   "metadata": {},
   "outputs": [],
   "source": [
    "# Готовим данные для графика\n",
    "data1 = df['duration'][df['convert'] == 1]\n",
    "data2 = df['duration'][df['convert'] == 0]\n",
    "data1.head()"
   ]
  },
  {
   "cell_type": "code",
   "execution_count": null,
   "id": "5c4785b0",
   "metadata": {},
   "outputs": [],
   "source": [
    "plt.figure(figsize=(6, 4))\n",
    "\n",
    "sns.boxplot(data=[data1]);"
   ]
  },
  {
   "cell_type": "code",
   "execution_count": null,
   "id": "066554e7",
   "metadata": {},
   "outputs": [],
   "source": [
    "sns.histplot(x=data1);"
   ]
  },
  {
   "cell_type": "markdown",
   "id": "e9c67cfd",
   "metadata": {},
   "source": [
    "##### Matplotlib"
   ]
  },
  {
   "cell_type": "code",
   "execution_count": null,
   "id": "c55f1091",
   "metadata": {},
   "outputs": [],
   "source": [
    "# Строим боксплот\n",
    "\n",
    "plt.figure(figsize=(6, 4))\n",
    "\n",
    "plt.boxplot([data1, data2])\n",
    "\n",
    "plt.title('Время последнего контакта')\n",
    "plt.xlabel('Совершили покупку')\n",
    "plt.ylabel('Время в секундах')\n",
    "plt.xticks([1, 2], ['yes', 'no']);"
   ]
  },
  {
   "cell_type": "code",
   "execution_count": null,
   "id": "8419ce5b",
   "metadata": {},
   "outputs": [],
   "source": [
    "# Строим боксплот без выбросов \n",
    "\n",
    "plt.figure(figsize=(6, 4))\n",
    "\n",
    "plt.boxplot([data1, data2], showfliers=False)\n",
    "\n",
    "plt.title('Время последнего контакта')\n",
    "plt.xlabel('Совершили покупку')\n",
    "\n",
    "plt.ylabel('Время в секундах')\n",
    "plt.xticks([1, 2], ['yes', 'no']);"
   ]
  },
  {
   "cell_type": "markdown",
   "id": "f4386d9a",
   "metadata": {},
   "source": [
    "##### Seaborn"
   ]
  },
  {
   "cell_type": "code",
   "execution_count": null,
   "id": "6f04aec2",
   "metadata": {},
   "outputs": [],
   "source": [
    "# Строим боксплот без выбросов \n",
    "\n",
    "plt.figure(figsize=(6, 4))\n",
    "\n",
    "sns.boxplot(data=[data1, data2], showfliers=False)\n",
    "\n",
    "plt.title('Время последнего контакта')\n",
    "plt.xlabel('Совершили покупку')\n",
    "\n",
    "plt.ylabel('Время в секундах')\n",
    "plt.xticks([0, 1], ['yes', 'no']);"
   ]
  },
  {
   "cell_type": "markdown",
   "id": "d9333362",
   "metadata": {},
   "source": [
    "##### Круговая диаграмма"
   ]
  },
  {
   "cell_type": "code",
   "execution_count": null,
   "id": "ae9f8958",
   "metadata": {},
   "outputs": [],
   "source": [
    "# Готовим данные для графика\n",
    "data = df['convert'].value_counts()\n",
    "data.index = ['no', 'yes']\n",
    "data.head()"
   ]
  },
  {
   "cell_type": "markdown",
   "id": "0ae0dfa1",
   "metadata": {},
   "source": [
    "##### Matplotlib"
   ]
  },
  {
   "cell_type": "code",
   "execution_count": null,
   "id": "4087c87d",
   "metadata": {},
   "outputs": [],
   "source": [
    "# Строим круговую диаграмму\n",
    "\n",
    "plt.figure(figsize=(6, 4))\n",
    "\n",
    "plt.pie(data, autopct='%1.1f%%')\n",
    "\n",
    "plt.title('Доля клиентов банка, открывших депозит')\n",
    "plt.legend(data.index);"
   ]
  },
  {
   "cell_type": "markdown",
   "id": "ae2aba0d",
   "metadata": {},
   "source": [
    "### Визуальный анализ данных\n",
    "#### Описание датасета\n",
    "\n",
    "Статистические данные о ряде домов в Калифорнии, основанные на переписи 1990 года.\n",
    "\n",
    "- longitude - долгота\n",
    "- latitude - широта\n",
    "- housing_median_age - средний возраст дома\n",
    "- total_rooms - общее количество комнат\n",
    "- total_bedrooms - общее количество спален\n",
    "- population - количество проживающих\n",
    "- households - домохозяйства\n",
    "- ocean_proximity - близость океана\n",
    "- median_income - средний доход\n",
    "- median_house_value - средняя стоимость дома"
   ]
  },
  {
   "cell_type": "code",
   "execution_count": null,
   "id": "12c9d272",
   "metadata": {},
   "outputs": [],
   "source": [
    "df = pd.read_csv('housing.csv', sep=';')\n",
    "df.head()"
   ]
  },
  {
   "cell_type": "markdown",
   "id": "e8ebf733",
   "metadata": {},
   "source": [
    "##### Распределение вещественных признаков"
   ]
  },
  {
   "cell_type": "code",
   "execution_count": null,
   "id": "63affbd0",
   "metadata": {},
   "outputs": [],
   "source": [
    "# {'red', 'green', 'blue'} - дискретный признак ('red', 'green', 'blue', 'red', 'green', 'red')\n",
    "# [0, 100] - вещественный признак (0, 5, 5.6, 10.5, 10.57)"
   ]
  },
  {
   "cell_type": "code",
   "execution_count": null,
   "id": "226892b6",
   "metadata": {},
   "outputs": [],
   "source": [
    "plt.figure(figsize=(8, 6))\n",
    "plt.hist(df['median_house_value'])\n",
    "plt.title('Распределение median house value')\n",
    "plt.xlabel('Стоимость')\n",
    "plt.ylabel('Количество');"
   ]
  },
  {
   "cell_type": "code",
   "execution_count": null,
   "id": "eeebf5ee",
   "metadata": {},
   "outputs": [],
   "source": [
    "df_num_features = df.select_dtypes(include=['float64', 'float32', 'float16'])\n",
    "df_num_features.drop('median_house_value', axis=1, inplace=True)"
   ]
  },
  {
   "cell_type": "code",
   "execution_count": null,
   "id": "4b9dee10",
   "metadata": {},
   "outputs": [],
   "source": [
    "df_num_features.hist(figsize=(16, 16), bins=20, grid=False);"
   ]
  },
  {
   "cell_type": "markdown",
   "id": "295494e1",
   "metadata": {},
   "source": [
    "#### Поиск выбросов с помощью box plot\n",
    "\n",
    "#### Как строится box plot\n",
    "\n",
    "\n",
    "box - от 25% до 75% квантиля\n",
    "линия в середине box - медиана\n",
    "\"усы\"\n",
    "\n",
    "#### Как строятся \"усы\" - вариантов масса\n",
    "\n",
    "среднее +/- 3 сигма (стандартное отклонение)\n",
    "min / max\n",
    "median +/- 1.5*(q75 - q25),\n",
    "...\n",
    "*Интерквартильный размах = q75 - q25"
   ]
  },
  {
   "cell_type": "code",
   "execution_count": null,
   "id": "863d7a8b",
   "metadata": {},
   "outputs": [],
   "source": [
    "plt.figure(figsize=(6, 3))\n",
    "\n",
    "sns.boxplot(x=df['population'], whis=1.5)\n",
    "\n",
    "plt.xlabel('population')\n",
    "plt.show()"
   ]
  },
  {
   "cell_type": "markdown",
   "id": "e1f80127",
   "metadata": {},
   "source": [
    "#### Анализ категориальных признаков"
   ]
  },
  {
   "cell_type": "code",
   "execution_count": null,
   "id": "3a9b0c78",
   "metadata": {},
   "outputs": [],
   "source": [
    "counts = df['ocean_proximity'].value_counts()\n",
    "    \n",
    "plt.figure(figsize=(8, 6))    \n",
    "plt.title('ocean_proximity')\n",
    "sns.barplot(x=counts.index, y=counts.values)\n",
    "    \n",
    "plt.show()"
   ]
  },
  {
   "cell_type": "code",
   "execution_count": null,
   "id": "c7ebfc2d",
   "metadata": {},
   "outputs": [],
   "source": [
    "counts = df['INLAND'].value_counts()\n",
    "    \n",
    "plt.figure(figsize=(8, 6))    \n",
    "plt.title('INLAND')\n",
    "sns.barplot(x=counts.index, y=counts.values)\n",
    "    \n",
    "plt.show()"
   ]
  },
  {
   "cell_type": "markdown",
   "id": "bb55f63c",
   "metadata": {},
   "source": [
    "#### Анализ взаимных распределений"
   ]
  },
  {
   "cell_type": "code",
   "execution_count": null,
   "id": "893fec59",
   "metadata": {},
   "outputs": [],
   "source": [
    "sns.jointplot(x=df['median_income'], y=df['median_house_value'], kind='reg');"
   ]
  },
  {
   "cell_type": "code",
   "execution_count": null,
   "id": "89207f2b",
   "metadata": {},
   "outputs": [],
   "source": [
    "sns.jointplot(x=df['latitude'], y=df['longitude'], kind='kde');"
   ]
  },
  {
   "cell_type": "code",
   "execution_count": null,
   "id": "6ed532ec",
   "metadata": {},
   "outputs": [],
   "source": [
    "sns.jointplot(x=df['latitude'], y=df['median_house_value'], kind='reg');"
   ]
  },
  {
   "cell_type": "markdown",
   "id": "e036b6fc",
   "metadata": {},
   "source": [
    "Видно два города, имеет смысл посмотреть на зависимость по отдельности"
   ]
  },
  {
   "cell_type": "code",
   "execution_count": null,
   "id": "928e4ec0",
   "metadata": {},
   "outputs": [],
   "source": [
    "df_cut = df[df['latitude'] < 36]\n",
    "sns.jointplot(x=df_cut['latitude'], y=df_cut['median_house_value'], kind='reg');"
   ]
  },
  {
   "cell_type": "code",
   "execution_count": null,
   "id": "a750cc4f",
   "metadata": {},
   "outputs": [],
   "source": [
    "df_cut = df[df['latitude'] >= 36]\n",
    "sns.jointplot(x=df_cut['latitude'], y=df_cut['median_house_value'], kind='reg');"
   ]
  },
  {
   "cell_type": "markdown",
   "id": "feac5a7b",
   "metadata": {},
   "source": [
    "##### longitude"
   ]
  },
  {
   "cell_type": "code",
   "execution_count": null,
   "id": "ad6eda52",
   "metadata": {},
   "outputs": [],
   "source": [
    "sns.jointplot(x=df['longitude'], y=df['median_house_value'], kind='reg');"
   ]
  },
  {
   "cell_type": "code",
   "execution_count": null,
   "id": "a3496393",
   "metadata": {},
   "outputs": [],
   "source": [
    "df_cut = df[df['longitude'] < -120]\n",
    "sns.jointplot(x=df_cut['longitude'], y=df_cut['median_house_value'], kind='reg');"
   ]
  },
  {
   "cell_type": "code",
   "execution_count": null,
   "id": "dbf0f32b",
   "metadata": {},
   "outputs": [],
   "source": [
    "df_cut = df[df['longitude'] >= -120]\n",
    "sns.jointplot(x=df_cut['longitude'], y=df_cut['median_house_value'], kind='reg');"
   ]
  },
  {
   "cell_type": "markdown",
   "id": "d252debc",
   "metadata": {},
   "source": [
    "#### Категориальные / бинарные признаки\n",
    "##### box plot"
   ]
  },
  {
   "cell_type": "code",
   "execution_count": null,
   "id": "7209159e",
   "metadata": {},
   "outputs": [],
   "source": [
    "plt.figure(figsize=(16, 8))\n",
    "\n",
    "sns.boxplot(x=df['median_house_value'], y=df['ocean_proximity'], whis=1.5)\n",
    "\n",
    "plt.xlabel('median_house_value')\n",
    "plt.ylabel('ocean_proximity')\n",
    "plt.title('Distribution of median_house_value by ocean_proximity');"
   ]
  },
  {
   "cell_type": "markdown",
   "id": "e9e358f9",
   "metadata": {},
   "source": [
    "#### Как строится box plot\n",
    "\n",
    "Подробное объяснение\n",
    "\n",
    "box - от 25% до 75% квантиля\n",
    "линия в середине box - медиана\n",
    "\"усы\"\n",
    "##### Как строятся \"усы\" - вариантов масса\n",
    "\n",
    "среднее +/- 3 сигма (стандартное отклонение)\n",
    "min / max\n",
    "median +/- 1.5*(q75 - q25),\n",
    "...\n",
    "*Интерквартильный размах = q75 - q25\n",
    "\n",
    "#### Матрица корреляций\n",
    "Показывает линейную связь между переменными\n",
    "Изменяется от -1 до 1\n",
    "Корреляция - мера только линейной связи"
   ]
  },
  {
   "cell_type": "code",
   "execution_count": null,
   "id": "d584540f",
   "metadata": {},
   "outputs": [],
   "source": [
    "sns.jointplot(x=df['total_rooms'], y=df['total_bedrooms'], kind='reg');"
   ]
  },
  {
   "cell_type": "code",
   "execution_count": null,
   "id": "71bc584e",
   "metadata": {},
   "outputs": [],
   "source": [
    "sns.jointplot(x=df['longitude'], y=df['latitude'], kind='reg');"
   ]
  },
  {
   "cell_type": "code",
   "execution_count": null,
   "id": "dd73b1b7",
   "metadata": {},
   "outputs": [],
   "source": [
    "corr_matrix = df.corr()\n",
    "corr_matrix = np.round(corr_matrix, 1)\n",
    "corr_matrix[np.abs(corr_matrix) < 0.3] = 0\n",
    "corr_matrix"
   ]
  },
  {
   "cell_type": "code",
   "execution_count": null,
   "id": "e902fc9f",
   "metadata": {},
   "outputs": [],
   "source": [
    "plt.figure(figsize=(10, 8))\n",
    "\n",
    "sns.set(font_scale=1.4)\n",
    "\n",
    "sns.heatmap(corr_matrix, annot=True, linewidths=.5, cmap='coolwarm')\n",
    "\n",
    "plt.title('Correlation matrix');"
   ]
  },
  {
   "cell_type": "markdown",
   "id": "fb4e0c69",
   "metadata": {},
   "source": [
    "#### Гео данные"
   ]
  },
  {
   "cell_type": "code",
   "execution_count": null,
   "id": "324b889b",
   "metadata": {},
   "outputs": [],
   "source": [
    "min_long = -124.55\n",
    "max_long = -113.80\n",
    "\n",
    "min_lat = 32.45\n",
    "max_lat = 42.05"
   ]
  },
  {
   "cell_type": "code",
   "execution_count": null,
   "id": "822ceb8c",
   "metadata": {},
   "outputs": [],
   "source": [
    "import matplotlib.image as img\n",
    "california_map = img.imread('California_Map.png')\n",
    "\n",
    "plt.figure(figsize=(12, 9))\n",
    "plt.imshow(california_map,\n",
    "           extent=[min_long, max_long, min_lat, max_lat], alpha=0.5);"
   ]
  },
  {
   "cell_type": "code",
   "execution_count": null,
   "id": "c8a0839b",
   "metadata": {},
   "outputs": [],
   "source": [
    "plt.figure(figsize=(12, 9))\n",
    "\n",
    "sc = plt.scatter(df['longitude'], df['latitude'], alpha=0.5, c=df['median_house_value'])\n",
    "\n",
    "plt.imshow(california_map,\n",
    "           extent=[min_long, max_long, min_lat, max_lat], alpha=0.5)\n",
    "\n",
    "plt.colorbar(sc)\n",
    "plt.xlabel(\"Longitude\")\n",
    "plt.ylabel(\"Latitude\")\n",
    "plt.title(\"Homes geography\");"
   ]
  },
  {
   "cell_type": "code",
   "execution_count": null,
   "id": "6482b891",
   "metadata": {},
   "outputs": [],
   "source": [
    "# !pip install folium"
   ]
  },
  {
   "cell_type": "code",
   "execution_count": null,
   "id": "35016c77",
   "metadata": {},
   "outputs": [],
   "source": [
    "import folium\n",
    "this_map = folium.Map(prefer_canvas=True)\n",
    "\n",
    "def plotDot(point):\n",
    "    folium.CircleMarker(\n",
    "        location=[point.latitude, point.longitude],\n",
    "        radius=2,\n",
    "        popup=point.median_house_value\n",
    "    ).add_to(this_map)\n",
    "    \n",
    "df.apply(plotDot, axis=1)\n",
    "\n",
    "this_map.fit_bounds(this_map.get_bounds())\n",
    "\n",
    "this_map"
   ]
  },
  {
   "cell_type": "markdown",
   "id": "3564d6e4",
   "metadata": {},
   "source": [
    "### Kepler**"
   ]
  },
  {
   "cell_type": "code",
   "execution_count": null,
   "id": "be4bd956",
   "metadata": {},
   "outputs": [],
   "source": [
    "# !conda install -c conda-forge keplergl"
   ]
  },
  {
   "cell_type": "code",
   "execution_count": null,
   "id": "65f3e2e7",
   "metadata": {},
   "outputs": [],
   "source": [
    "# !pip install keplergl==0.1.1"
   ]
  },
  {
   "cell_type": "code",
   "execution_count": null,
   "id": "96a8212c",
   "metadata": {},
   "outputs": [],
   "source": [
    "from keplergl import KeplerGl \n",
    "\n",
    "map_ = KeplerGl(height=700)\n",
    "map_.add_data(df, 'Data')\n",
    "map_.save_to_html(file_name='./california.html')"
   ]
  },
  {
   "cell_type": "markdown",
   "id": "cee0ea9c",
   "metadata": {},
   "source": [
    "User Guide: https://docs.kepler.gl/docs/keplergl-jupyter\n",
    "Map saved to ./california.html!"
   ]
  },
  {
   "cell_type": "markdown",
   "id": "a83c8f7b",
   "metadata": {},
   "source": [
    "### Summary\n",
    "#### Матрица корреляции\n",
    "##### Знакомство с признаками\n",
    "Плотность распределения (sns.distplot/sns.kdeplot/plt.hist - Узнать распределение признака)\n",
    "sns.violinplot - Узнать распределение признака\n",
    "Столбчатая диаграмма (sns.barplot/plt.bar - Узнать распределение категориального признака)\n",
    "Ящик с усами (sns.boxplot/plt.boxplot - Узнать диапазон значений)\n",
    "sns.jointplot - Взаимное изменение признаков\n",
    "plt.pie - Изобразить долю объектов от всего кол-ва\n",
    "##### Поиск выбросов\n",
    "sns.distplot/sns.kdeplot/plt.hist - Искать хвосты слева и справа\n",
    "sns.boxplot - Всё, что выходит за пределы усов - выбросы\n",
    "Seaborn - https://seaborn.pydata.org/examples/index.html\n",
    "Matplotlib - https://matplotlib.org/3.1.0/gallery/index.html"
   ]
  },
  {
   "cell_type": "code",
   "execution_count": null,
   "id": "8038064d",
   "metadata": {},
   "outputs": [],
   "source": []
  }
 ],
 "metadata": {
  "kernelspec": {
   "display_name": "Python 3 (ipykernel)",
   "language": "python",
   "name": "python3"
  },
  "language_info": {
   "codemirror_mode": {
    "name": "ipython",
    "version": 3
   },
   "file_extension": ".py",
   "mimetype": "text/x-python",
   "name": "python",
   "nbconvert_exporter": "python",
   "pygments_lexer": "ipython3",
   "version": "3.9.13"
  }
 },
 "nbformat": 4,
 "nbformat_minor": 5
}
